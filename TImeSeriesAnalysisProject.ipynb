{
 "cells": [
  {
   "cell_type": "code",
   "execution_count": 3,
   "id": "683e9378",
   "metadata": {},
   "outputs": [
    {
     "name": "stderr",
     "output_type": "stream",
     "text": [
      "C:\\Users\\KIIT\\AppData\\Local\\Temp/ipykernel_8/1984757751.py:2: FutureWarning: The pandas.datetime class is deprecated and will be removed from pandas in a future version. Import from datetime module instead.\n",
      "  from pandas import datetime\n"
     ]
    }
   ],
   "source": [
    "import pandas as pd\n",
    "from pandas import datetime\n",
    "import numpy as np\n",
    "import matplotlib.pyplot as plt"
   ]
  },
  {
   "cell_type": "code",
   "execution_count": 47,
   "id": "3811e4e5",
   "metadata": {},
   "outputs": [
    {
     "data": {
      "text/html": [
       "<div>\n",
       "<style scoped>\n",
       "    .dataframe tbody tr th:only-of-type {\n",
       "        vertical-align: middle;\n",
       "    }\n",
       "\n",
       "    .dataframe tbody tr th {\n",
       "        vertical-align: top;\n",
       "    }\n",
       "\n",
       "    .dataframe thead th {\n",
       "        text-align: right;\n",
       "    }\n",
       "</style>\n",
       "<table border=\"1\" class=\"dataframe\">\n",
       "  <thead>\n",
       "    <tr style=\"text-align: right;\">\n",
       "      <th></th>\n",
       "      <th>Date</th>\n",
       "      <th>Symbol</th>\n",
       "      <th>Series</th>\n",
       "      <th>Prev Close</th>\n",
       "      <th>Open</th>\n",
       "      <th>High</th>\n",
       "      <th>Low</th>\n",
       "      <th>Last</th>\n",
       "      <th>Close</th>\n",
       "      <th>VWAP</th>\n",
       "      <th>Volume</th>\n",
       "      <th>Turnover</th>\n",
       "      <th>Trades</th>\n",
       "      <th>Deliverable Volume</th>\n",
       "      <th>%Deliverble</th>\n",
       "    </tr>\n",
       "  </thead>\n",
       "  <tbody>\n",
       "    <tr>\n",
       "      <th>0</th>\n",
       "      <td>2000-01-03</td>\n",
       "      <td>HDFCBANK</td>\n",
       "      <td>EQ</td>\n",
       "      <td>157.40</td>\n",
       "      <td>166.00</td>\n",
       "      <td>170.00</td>\n",
       "      <td>166.00</td>\n",
       "      <td>170.00</td>\n",
       "      <td>170.00</td>\n",
       "      <td>169.52</td>\n",
       "      <td>33259</td>\n",
       "      <td>5.638122e+11</td>\n",
       "      <td>NaN</td>\n",
       "      <td>NaN</td>\n",
       "      <td>NaN</td>\n",
       "    </tr>\n",
       "    <tr>\n",
       "      <th>1</th>\n",
       "      <td>2000-01-04</td>\n",
       "      <td>HDFCBANK</td>\n",
       "      <td>EQ</td>\n",
       "      <td>170.00</td>\n",
       "      <td>182.00</td>\n",
       "      <td>183.45</td>\n",
       "      <td>171.00</td>\n",
       "      <td>174.00</td>\n",
       "      <td>173.80</td>\n",
       "      <td>174.99</td>\n",
       "      <td>168710</td>\n",
       "      <td>2.952261e+12</td>\n",
       "      <td>NaN</td>\n",
       "      <td>NaN</td>\n",
       "      <td>NaN</td>\n",
       "    </tr>\n",
       "    <tr>\n",
       "      <th>2</th>\n",
       "      <td>2000-01-05</td>\n",
       "      <td>HDFCBANK</td>\n",
       "      <td>EQ</td>\n",
       "      <td>173.80</td>\n",
       "      <td>170.00</td>\n",
       "      <td>173.90</td>\n",
       "      <td>165.00</td>\n",
       "      <td>168.00</td>\n",
       "      <td>166.95</td>\n",
       "      <td>169.20</td>\n",
       "      <td>159820</td>\n",
       "      <td>2.704094e+12</td>\n",
       "      <td>NaN</td>\n",
       "      <td>NaN</td>\n",
       "      <td>NaN</td>\n",
       "    </tr>\n",
       "    <tr>\n",
       "      <th>3</th>\n",
       "      <td>2000-01-06</td>\n",
       "      <td>HDFCBANK</td>\n",
       "      <td>EQ</td>\n",
       "      <td>166.95</td>\n",
       "      <td>168.00</td>\n",
       "      <td>170.00</td>\n",
       "      <td>165.30</td>\n",
       "      <td>168.95</td>\n",
       "      <td>168.30</td>\n",
       "      <td>168.44</td>\n",
       "      <td>85026</td>\n",
       "      <td>1.432166e+12</td>\n",
       "      <td>NaN</td>\n",
       "      <td>NaN</td>\n",
       "      <td>NaN</td>\n",
       "    </tr>\n",
       "    <tr>\n",
       "      <th>4</th>\n",
       "      <td>2000-01-07</td>\n",
       "      <td>HDFCBANK</td>\n",
       "      <td>EQ</td>\n",
       "      <td>168.30</td>\n",
       "      <td>162.15</td>\n",
       "      <td>171.00</td>\n",
       "      <td>162.15</td>\n",
       "      <td>170.75</td>\n",
       "      <td>168.35</td>\n",
       "      <td>166.79</td>\n",
       "      <td>85144</td>\n",
       "      <td>1.420158e+12</td>\n",
       "      <td>NaN</td>\n",
       "      <td>NaN</td>\n",
       "      <td>NaN</td>\n",
       "    </tr>\n",
       "    <tr>\n",
       "      <th>5</th>\n",
       "      <td>2000-01-10</td>\n",
       "      <td>HDFCBANK</td>\n",
       "      <td>EQ</td>\n",
       "      <td>168.35</td>\n",
       "      <td>172.90</td>\n",
       "      <td>179.50</td>\n",
       "      <td>165.00</td>\n",
       "      <td>166.30</td>\n",
       "      <td>165.90</td>\n",
       "      <td>167.79</td>\n",
       "      <td>100434</td>\n",
       "      <td>1.685217e+12</td>\n",
       "      <td>NaN</td>\n",
       "      <td>NaN</td>\n",
       "      <td>NaN</td>\n",
       "    </tr>\n",
       "    <tr>\n",
       "      <th>6</th>\n",
       "      <td>2000-01-11</td>\n",
       "      <td>HDFCBANK</td>\n",
       "      <td>EQ</td>\n",
       "      <td>165.90</td>\n",
       "      <td>166.50</td>\n",
       "      <td>167.90</td>\n",
       "      <td>157.00</td>\n",
       "      <td>163.00</td>\n",
       "      <td>163.40</td>\n",
       "      <td>161.40</td>\n",
       "      <td>145784</td>\n",
       "      <td>2.352907e+12</td>\n",
       "      <td>NaN</td>\n",
       "      <td>NaN</td>\n",
       "      <td>NaN</td>\n",
       "    </tr>\n",
       "    <tr>\n",
       "      <th>7</th>\n",
       "      <td>2000-01-12</td>\n",
       "      <td>HDFCBANK</td>\n",
       "      <td>EQ</td>\n",
       "      <td>163.40</td>\n",
       "      <td>163.75</td>\n",
       "      <td>167.95</td>\n",
       "      <td>162.30</td>\n",
       "      <td>165.10</td>\n",
       "      <td>165.45</td>\n",
       "      <td>163.89</td>\n",
       "      <td>85952</td>\n",
       "      <td>1.408658e+12</td>\n",
       "      <td>NaN</td>\n",
       "      <td>NaN</td>\n",
       "      <td>NaN</td>\n",
       "    </tr>\n",
       "    <tr>\n",
       "      <th>8</th>\n",
       "      <td>2000-01-13</td>\n",
       "      <td>HDFCBANK</td>\n",
       "      <td>EQ</td>\n",
       "      <td>165.45</td>\n",
       "      <td>169.90</td>\n",
       "      <td>169.90</td>\n",
       "      <td>165.00</td>\n",
       "      <td>165.95</td>\n",
       "      <td>165.10</td>\n",
       "      <td>165.26</td>\n",
       "      <td>48276</td>\n",
       "      <td>7.977871e+11</td>\n",
       "      <td>NaN</td>\n",
       "      <td>NaN</td>\n",
       "      <td>NaN</td>\n",
       "    </tr>\n",
       "    <tr>\n",
       "      <th>9</th>\n",
       "      <td>2000-01-14</td>\n",
       "      <td>HDFCBANK</td>\n",
       "      <td>EQ</td>\n",
       "      <td>165.10</td>\n",
       "      <td>168.00</td>\n",
       "      <td>168.00</td>\n",
       "      <td>164.00</td>\n",
       "      <td>166.00</td>\n",
       "      <td>165.45</td>\n",
       "      <td>164.68</td>\n",
       "      <td>58152</td>\n",
       "      <td>9.576544e+11</td>\n",
       "      <td>NaN</td>\n",
       "      <td>NaN</td>\n",
       "      <td>NaN</td>\n",
       "    </tr>\n",
       "  </tbody>\n",
       "</table>\n",
       "</div>"
      ],
      "text/plain": [
       "        Date    Symbol Series  Prev Close    Open    High     Low    Last  \\\n",
       "0 2000-01-03  HDFCBANK     EQ      157.40  166.00  170.00  166.00  170.00   \n",
       "1 2000-01-04  HDFCBANK     EQ      170.00  182.00  183.45  171.00  174.00   \n",
       "2 2000-01-05  HDFCBANK     EQ      173.80  170.00  173.90  165.00  168.00   \n",
       "3 2000-01-06  HDFCBANK     EQ      166.95  168.00  170.00  165.30  168.95   \n",
       "4 2000-01-07  HDFCBANK     EQ      168.30  162.15  171.00  162.15  170.75   \n",
       "5 2000-01-10  HDFCBANK     EQ      168.35  172.90  179.50  165.00  166.30   \n",
       "6 2000-01-11  HDFCBANK     EQ      165.90  166.50  167.90  157.00  163.00   \n",
       "7 2000-01-12  HDFCBANK     EQ      163.40  163.75  167.95  162.30  165.10   \n",
       "8 2000-01-13  HDFCBANK     EQ      165.45  169.90  169.90  165.00  165.95   \n",
       "9 2000-01-14  HDFCBANK     EQ      165.10  168.00  168.00  164.00  166.00   \n",
       "\n",
       "    Close    VWAP  Volume      Turnover  Trades  Deliverable Volume  \\\n",
       "0  170.00  169.52   33259  5.638122e+11     NaN                 NaN   \n",
       "1  173.80  174.99  168710  2.952261e+12     NaN                 NaN   \n",
       "2  166.95  169.20  159820  2.704094e+12     NaN                 NaN   \n",
       "3  168.30  168.44   85026  1.432166e+12     NaN                 NaN   \n",
       "4  168.35  166.79   85144  1.420158e+12     NaN                 NaN   \n",
       "5  165.90  167.79  100434  1.685217e+12     NaN                 NaN   \n",
       "6  163.40  161.40  145784  2.352907e+12     NaN                 NaN   \n",
       "7  165.45  163.89   85952  1.408658e+12     NaN                 NaN   \n",
       "8  165.10  165.26   48276  7.977871e+11     NaN                 NaN   \n",
       "9  165.45  164.68   58152  9.576544e+11     NaN                 NaN   \n",
       "\n",
       "   %Deliverble  \n",
       "0          NaN  \n",
       "1          NaN  \n",
       "2          NaN  \n",
       "3          NaN  \n",
       "4          NaN  \n",
       "5          NaN  \n",
       "6          NaN  \n",
       "7          NaN  \n",
       "8          NaN  \n",
       "9          NaN  "
      ]
     },
     "execution_count": 47,
     "metadata": {},
     "output_type": "execute_result"
    }
   ],
   "source": [
    "df = pd.read_csv(r'D:/practice/Datasets/HDFCBANK.csv', parse_dates=['Date'], dayfirst=True)\n",
    "df.head(10)"
   ]
  },
  {
   "cell_type": "code",
   "execution_count": 56,
   "id": "a00af84c",
   "metadata": {},
   "outputs": [
    {
     "data": {
      "text/html": [
       "<div>\n",
       "<style scoped>\n",
       "    .dataframe tbody tr th:only-of-type {\n",
       "        vertical-align: middle;\n",
       "    }\n",
       "\n",
       "    .dataframe tbody tr th {\n",
       "        vertical-align: top;\n",
       "    }\n",
       "\n",
       "    .dataframe thead th {\n",
       "        text-align: right;\n",
       "    }\n",
       "</style>\n",
       "<table border=\"1\" class=\"dataframe\">\n",
       "  <thead>\n",
       "    <tr style=\"text-align: right;\">\n",
       "      <th></th>\n",
       "      <th>Prev Close</th>\n",
       "      <th>Open</th>\n",
       "      <th>High</th>\n",
       "      <th>Low</th>\n",
       "      <th>Last</th>\n",
       "      <th>Close</th>\n",
       "      <th>VWAP</th>\n",
       "      <th>Volume</th>\n",
       "      <th>Turnover</th>\n",
       "      <th>Trades</th>\n",
       "      <th>Deliverable Volume</th>\n",
       "      <th>%Deliverble</th>\n",
       "    </tr>\n",
       "  </thead>\n",
       "  <tbody>\n",
       "    <tr>\n",
       "      <th>count</th>\n",
       "      <td>2456.000000</td>\n",
       "      <td>2456.000000</td>\n",
       "      <td>2456.000000</td>\n",
       "      <td>2456.000000</td>\n",
       "      <td>2456.000000</td>\n",
       "      <td>2456.000000</td>\n",
       "      <td>2456.000000</td>\n",
       "      <td>2.456000e+03</td>\n",
       "      <td>2.456000e+03</td>\n",
       "      <td>2456.000000</td>\n",
       "      <td>2.456000e+03</td>\n",
       "      <td>2456.000000</td>\n",
       "    </tr>\n",
       "    <tr>\n",
       "      <th>mean</th>\n",
       "      <td>1205.632492</td>\n",
       "      <td>1205.485525</td>\n",
       "      <td>1216.206454</td>\n",
       "      <td>1193.575570</td>\n",
       "      <td>1205.299369</td>\n",
       "      <td>1205.230517</td>\n",
       "      <td>1205.046344</td>\n",
       "      <td>3.931527e+06</td>\n",
       "      <td>4.573430e+14</td>\n",
       "      <td>82923.625407</td>\n",
       "      <td>2.122648e+06</td>\n",
       "      <td>0.585205</td>\n",
       "    </tr>\n",
       "    <tr>\n",
       "      <th>std</th>\n",
       "      <td>558.743721</td>\n",
       "      <td>558.179064</td>\n",
       "      <td>561.419369</td>\n",
       "      <td>555.032094</td>\n",
       "      <td>558.238493</td>\n",
       "      <td>558.239334</td>\n",
       "      <td>558.320810</td>\n",
       "      <td>5.239172e+06</td>\n",
       "      <td>6.336409e+14</td>\n",
       "      <td>93575.061741</td>\n",
       "      <td>2.594278e+06</td>\n",
       "      <td>0.115048</td>\n",
       "    </tr>\n",
       "    <tr>\n",
       "      <th>min</th>\n",
       "      <td>406.000000</td>\n",
       "      <td>406.000000</td>\n",
       "      <td>413.000000</td>\n",
       "      <td>400.250000</td>\n",
       "      <td>402.400000</td>\n",
       "      <td>406.000000</td>\n",
       "      <td>405.950000</td>\n",
       "      <td>4.632200e+04</td>\n",
       "      <td>2.517895e+12</td>\n",
       "      <td>807.000000</td>\n",
       "      <td>1.827600e+04</td>\n",
       "      <td>0.185200</td>\n",
       "    </tr>\n",
       "    <tr>\n",
       "      <th>25%</th>\n",
       "      <td>687.800000</td>\n",
       "      <td>687.562500</td>\n",
       "      <td>693.700000</td>\n",
       "      <td>679.950000</td>\n",
       "      <td>687.150000</td>\n",
       "      <td>687.800000</td>\n",
       "      <td>686.850000</td>\n",
       "      <td>1.343126e+06</td>\n",
       "      <td>1.350573e+14</td>\n",
       "      <td>26850.500000</td>\n",
       "      <td>7.709848e+05</td>\n",
       "      <td>0.511975</td>\n",
       "    </tr>\n",
       "    <tr>\n",
       "      <th>50%</th>\n",
       "      <td>1081.650000</td>\n",
       "      <td>1080.850000</td>\n",
       "      <td>1092.450000</td>\n",
       "      <td>1069.500000</td>\n",
       "      <td>1081.000000</td>\n",
       "      <td>1081.650000</td>\n",
       "      <td>1081.000000</td>\n",
       "      <td>2.173722e+06</td>\n",
       "      <td>2.046668e+14</td>\n",
       "      <td>44227.000000</td>\n",
       "      <td>1.342378e+06</td>\n",
       "      <td>0.596400</td>\n",
       "    </tr>\n",
       "    <tr>\n",
       "      <th>75%</th>\n",
       "      <td>1583.087500</td>\n",
       "      <td>1582.500000</td>\n",
       "      <td>1601.487500</td>\n",
       "      <td>1564.400000</td>\n",
       "      <td>1586.400000</td>\n",
       "      <td>1581.800000</td>\n",
       "      <td>1578.280000</td>\n",
       "      <td>3.937254e+06</td>\n",
       "      <td>5.159905e+14</td>\n",
       "      <td>104139.250000</td>\n",
       "      <td>2.509791e+06</td>\n",
       "      <td>0.667325</td>\n",
       "    </tr>\n",
       "    <tr>\n",
       "      <th>max</th>\n",
       "      <td>2565.800000</td>\n",
       "      <td>2566.000000</td>\n",
       "      <td>2583.300000</td>\n",
       "      <td>2553.700000</td>\n",
       "      <td>2563.000000</td>\n",
       "      <td>2565.800000</td>\n",
       "      <td>2570.700000</td>\n",
       "      <td>1.005650e+08</td>\n",
       "      <td>1.426400e+16</td>\n",
       "      <td>790631.000000</td>\n",
       "      <td>6.669683e+07</td>\n",
       "      <td>0.872700</td>\n",
       "    </tr>\n",
       "  </tbody>\n",
       "</table>\n",
       "</div>"
      ],
      "text/plain": [
       "        Prev Close         Open         High          Low         Last  \\\n",
       "count  2456.000000  2456.000000  2456.000000  2456.000000  2456.000000   \n",
       "mean   1205.632492  1205.485525  1216.206454  1193.575570  1205.299369   \n",
       "std     558.743721   558.179064   561.419369   555.032094   558.238493   \n",
       "min     406.000000   406.000000   413.000000   400.250000   402.400000   \n",
       "25%     687.800000   687.562500   693.700000   679.950000   687.150000   \n",
       "50%    1081.650000  1080.850000  1092.450000  1069.500000  1081.000000   \n",
       "75%    1583.087500  1582.500000  1601.487500  1564.400000  1586.400000   \n",
       "max    2565.800000  2566.000000  2583.300000  2553.700000  2563.000000   \n",
       "\n",
       "             Close         VWAP        Volume      Turnover         Trades  \\\n",
       "count  2456.000000  2456.000000  2.456000e+03  2.456000e+03    2456.000000   \n",
       "mean   1205.230517  1205.046344  3.931527e+06  4.573430e+14   82923.625407   \n",
       "std     558.239334   558.320810  5.239172e+06  6.336409e+14   93575.061741   \n",
       "min     406.000000   405.950000  4.632200e+04  2.517895e+12     807.000000   \n",
       "25%     687.800000   686.850000  1.343126e+06  1.350573e+14   26850.500000   \n",
       "50%    1081.650000  1081.000000  2.173722e+06  2.046668e+14   44227.000000   \n",
       "75%    1581.800000  1578.280000  3.937254e+06  5.159905e+14  104139.250000   \n",
       "max    2565.800000  2570.700000  1.005650e+08  1.426400e+16  790631.000000   \n",
       "\n",
       "       Deliverable Volume  %Deliverble  \n",
       "count        2.456000e+03  2456.000000  \n",
       "mean         2.122648e+06     0.585205  \n",
       "std          2.594278e+06     0.115048  \n",
       "min          1.827600e+04     0.185200  \n",
       "25%          7.709848e+05     0.511975  \n",
       "50%          1.342378e+06     0.596400  \n",
       "75%          2.509791e+06     0.667325  \n",
       "max          6.669683e+07     0.872700  "
      ]
     },
     "execution_count": 56,
     "metadata": {},
     "output_type": "execute_result"
    }
   ],
   "source": [
    "hdfcdata = df.dropna()\n",
    "hdfcdata.describe()"
   ]
  },
  {
   "cell_type": "code",
   "execution_count": 48,
   "id": "c3ee1dc7",
   "metadata": {},
   "outputs": [],
   "source": [
    "hdfcdata.index = pd.to_datetime(hdfcdata.Date)"
   ]
  },
  {
   "cell_type": "code",
   "execution_count": 49,
   "id": "30f12164",
   "metadata": {},
   "outputs": [],
   "source": [
    "hdfcdata = hdfcdata[\"Prev Close\"]['2013-01-01':'2013-12-2']"
   ]
  },
  {
   "cell_type": "code",
   "execution_count": 18,
   "id": "d4a2c46c",
   "metadata": {},
   "outputs": [
    {
     "data": {
      "text/plain": [
       "[<matplotlib.lines.Line2D at 0x17486b37af0>]"
      ]
     },
     "execution_count": 18,
     "metadata": {},
     "output_type": "execute_result"
    },
    {
     "data": {
      "image/png": "[encoded data removed]",
      "text/plain": [
       "<Figure size 1152x504 with 1 Axes>"
      ]
     },
     "metadata": {
      "needs_background": "light"
     },
     "output_type": "display_data"
    }
   ],
   "source": [
    "%matplotlib inline\n",
    "plt.figure(figsize=(16,7))\n",
    "fig = plt.figure(1)\n",
    "ax1 = fig.add_subplot(111)\n",
    "ax1.set_xlabel('Time Frame')\n",
    "ax1.set_ylabel('Stock Price for HDFC')\n",
    "ax1.plot(hdfcdata)"
   ]
  },
  {
   "cell_type": "code",
   "execution_count": 50,
   "id": "34bec0bb",
   "metadata": {},
   "outputs": [
    {
     "name": "stdout",
     "output_type": "stream",
     "text": [
      "ADF statistic: -2.915778497992099\n",
      "P-value: 0.043543698873738566\n",
      "Critical values:\n",
      "1%, -3.4592326027153493\n",
      "Critical values:\n",
      "5%, -2.8742454699025872\n",
      "Critical values:\n",
      "10%, -2.5735414688888465\n"
     ]
    }
   ],
   "source": [
    "from statsmodels.tsa.stattools import adfuller\n",
    "result = adfuller(hdfcdata.values, autolag='AIC')\n",
    "\n",
    "print(f'ADF statistic: {result[0]}')\n",
    "\n",
    "print(f'P-value: {result[1]}')\n",
    "\n",
    "for key, value in result[4].items():\n",
    "  print('Critical values:')\n",
    "  print(f'{key}, {value}')"
   ]
  },
  {
   "cell_type": "code",
   "execution_count": 29,
   "id": "8a26f04a",
   "metadata": {},
   "outputs": [
    {
     "name": "stdout",
     "output_type": "stream",
     "text": [
      "Note: you may need to restart the kernel to use updated packages.\n"
     ]
    },
    {
     "name": "stderr",
     "output_type": "stream",
     "text": [
      "The filename, directory name, or volume label syntax is incorrect.\n"
     ]
    }
   ],
   "source": [
    "pip install pmdarima"
   ]
  },
  {
   "cell_type": "code",
   "execution_count": 51,
   "id": "b7dd7bba",
   "metadata": {},
   "outputs": [],
   "source": [
    "import pmdarima as pm\n",
    "def arimamodel(timeseries):\n",
    "    automodel = pm.auto_arima(timeseries, \n",
    "                              start_p=2, \n",
    "                              start_q=2,\n",
    "                              max_p=5,\n",
    "                              max_q=5,\n",
    "                              test=\"adf\",\n",
    "                              seasonal=True,\n",
    "                              trace=True)\n",
    "    return automodel"
   ]
  },
  {
   "cell_type": "code",
   "execution_count": 52,
   "id": "51750bc5",
   "metadata": {},
   "outputs": [
    {
     "name": "stdout",
     "output_type": "stream",
     "text": [
      "Performing stepwise search to minimize aic\n",
      " ARIMA(2,1,2)(0,0,0)[0] intercept   : AIC=1791.284, Time=0.28 sec\n",
      " ARIMA(0,1,0)(0,0,0)[0] intercept   : AIC=1789.824, Time=0.01 sec\n",
      " ARIMA(1,1,0)(0,0,0)[0] intercept   : AIC=1791.805, Time=0.04 sec\n",
      " ARIMA(0,1,1)(0,0,0)[0] intercept   : AIC=1791.798, Time=0.05 sec\n",
      " ARIMA(0,1,0)(0,0,0)[0]             : AIC=1787.833, Time=0.01 sec\n",
      " ARIMA(1,1,1)(0,0,0)[0] intercept   : AIC=inf, Time=0.35 sec\n",
      "\n",
      "Best model:  ARIMA(0,1,0)(0,0,0)[0]          \n",
      "Total fit time: 0.745 seconds\n"
     ]
    },
    {
     "data": {
      "text/plain": [
       "ARIMA(order=(0, 1, 0), scoring_args={}, suppress_warnings=True,\n",
       "      with_intercept=False)"
      ]
     },
     "execution_count": 52,
     "metadata": {},
     "output_type": "execute_result"
    }
   ],
   "source": [
    "arimamodel(hdfcdata)"
   ]
  },
  {
   "cell_type": "code",
   "execution_count": 53,
   "id": "383d4896",
   "metadata": {},
   "outputs": [
    {
     "name": "stderr",
     "output_type": "stream",
     "text": [
      "c:\\users\\kiit\\appdata\\local\\programs\\python\\python39\\lib\\site-packages\\statsmodels\\tsa\\base\\tsa_model.py:593: ValueWarning: A date index has been provided, but it has no associated frequency information and so will be ignored when e.g. forecasting.\n",
      "  warnings.warn('A date index has been provided, but it has no'\n",
      "c:\\users\\kiit\\appdata\\local\\programs\\python\\python39\\lib\\site-packages\\statsmodels\\tsa\\base\\tsa_model.py:593: ValueWarning: A date index has been provided, but it has no associated frequency information and so will be ignored when e.g. forecasting.\n",
      "  warnings.warn('A date index has been provided, but it has no'\n",
      "c:\\users\\kiit\\appdata\\local\\programs\\python\\python39\\lib\\site-packages\\statsmodels\\tsa\\base\\tsa_model.py:593: ValueWarning: A date index has been provided, but it has no associated frequency information and so will be ignored when e.g. forecasting.\n",
      "  warnings.warn('A date index has been provided, but it has no'\n"
     ]
    }
   ],
   "source": [
    "from statsmodels.tsa.arima.model import ARIMA\n",
    "model = ARIMA(hdfcdata, order=(2,1,2))  \n",
    "results_ARIMA = model.fit() "
   ]
  },
  {
   "cell_type": "code",
   "execution_count": 57,
   "id": "817beb58",
   "metadata": {},
   "outputs": [
    {
     "data": {
      "text/plain": [
       "[<matplotlib.lines.Line2D at 0x17493b7a7f0>]"
      ]
     },
     "execution_count": 57,
     "metadata": {},
     "output_type": "execute_result"
    },
    {
     "data": {
      "image/png": "[encoded data removed]",
      "text/plain": [
       "<Figure size 1152x504 with 1 Axes>"
      ]
     },
     "metadata": {
      "needs_background": "light"
     },
     "output_type": "display_data"
    }
   ],
   "source": [
    "x = hdfcdata.index\n",
    "y = hdfcdata.Close\n",
    "tickvalues = hdfcdata.index\n",
    "plt.figure(figsize = (16,7))\n",
    "plt.xticks(ticks = tickvalues ,rotation = 'vertical')\n",
    "plt.plot(x,y)"
   ]
  },
  {
   "cell_type": "code",
   "execution_count": null,
   "id": "efc3835d",
   "metadata": {},
   "outputs": [],
   "source": []
  }
 ],
 "metadata": {
  "kernelspec": {
   "display_name": "Python 3 (ipykernel)",
   "language": "python",
   "name": "python3"
  },
  "language_info": {
   "codemirror_mode": {
    "name": "ipython",
    "version": 3
   },
   "file_extension": ".py",
   "mimetype": "text/x-python",
   "name": "python",
   "nbconvert_exporter": "python",
   "pygments_lexer": "ipython3",
   "version": "3.9.6"
  }
 },
 "nbformat": 4,
 "nbformat_minor": 5
}
